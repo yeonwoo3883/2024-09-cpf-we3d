{
  "nbformat": 4,
  "nbformat_minor": 0,
  "metadata": {
    "colab": {
      "provenance": []
    },
    "kernelspec": {
      "name": "python3",
      "display_name": "Python 3"
    },
    "language_info": {
      "name": "python"
    }
  },
  "cells": [
    {
      "cell_type": "code",
      "execution_count": null,
      "metadata": {
        "id": "Y0SgRfuvRPb9"
      },
      "outputs": [],
      "source": [
        "print(\"Hello World!!\")"
      ]
    },
    {
      "cell_type": "code",
      "source": [
        " print(\"Hello Python\")\n"
      ],
      "metadata": {
        "id": "sER_zDZdRf0A"
      },
      "execution_count": null,
      "outputs": []
    },
    {
      "cell_type": "code",
      "source": [
        "print(\"안녕\")"
      ],
      "metadata": {
        "id": "QE362keLS-VX"
      },
      "execution_count": null,
      "outputs": []
    },
    {
      "cell_type": "markdown",
      "source": [
        "1 import pylab as py\n",
        "2\n",
        "3 x_deg= py.arange(-180, 180+1)\n",
        "4 x_rad=py.deg2rad(x_deg)\n",
        "5 y=py.sin(x_rad)\n",
        "6\n",
        "7 py.plot(x_deg, y)\n",
        "8\n",
        "9 py.xlabel('x(deg)')\n",
        "10 py.ylabel('sin(x)')\n",
        "11 py.grid(True)\n",
        "12"
      ],
      "metadata": {
        "id": "dQ0lbDSZdvYk"
      }
    },
    {
      "cell_type": "code",
      "source": [
        "import pylab as py\n",
        "x_deg= py.arange(-180, 180+1,)\n",
        "x_rad=py.deg2rad(x_deg)\n",
        "y=py.sin(x_rad)\n",
        "py.plot(x_deg, y)\n",
        "py.xlabel('x(deg)')\n",
        "py.ylabel('sin(x)')\n",
        "py.grid(True)"
      ],
      "metadata": {
        "id": "mA1SAHo_fLG_"
      },
      "execution_count": null,
      "outputs": []
    },
    {
      "cell_type": "code",
      "source": [],
      "metadata": {
        "id": "lGDCjP_VfSWA"
      },
      "execution_count": null,
      "outputs": []
    }
  ]
}